{
 "cells": [
  {
   "cell_type": "code",
   "execution_count": 1,
   "metadata": {},
   "outputs": [],
   "source": [
    "#!/usr/bin/env python\n",
    "# Programmgeruest zu Versuch 1, Aufgabe 3\n",
    "import numpy as np\n",
    "import scipy.spatial\n",
    "from random import randint\n",
    "import matplotlib \n",
    "import matplotlib.pyplot as plt \n",
    "#from time import clock\n",
    "from time import perf_counter\n",
    "from V1A2_Classifier import *"
   ]
  },
  {
   "cell_type": "code",
   "execution_count": 2,
   "metadata": {},
   "outputs": [],
   "source": [
    "# (i) create some synthetic data (2-dimensional Gaussian)\n",
    "C=2                               # two classes\n",
    "N1,N2=500,500                     # N1 and N2 data vectors for the two classes\n",
    "mu1, mu2 = [1,1], [3,1]           # expectations for the two classes\n",
    "sigma1 = [[1,0.5],\\\n",
    "          [0.5,1]]                # covariance matrix for class 1\n",
    "sigma2 = [[1,0.5],\\\n",
    "          [0.5,1]]                # covariance matrix for class 2\n",
    "X1 = np.random.multivariate_normal(mu1,sigma1,(N1))    # Gaussian data vectors for class 1\n",
    "X2 = np.random.multivariate_normal(mu2,sigma2,(N2))    # Gaussian data vectors for class 2\n",
    "T1,T2 = N1*[0],N2*[1]             # corresponding class labels \n",
    "X = np.concatenate((X1,X2))       # entire data set\n",
    "T = np.concatenate((T1,T2))       # entire label set "
   ]
  },
  {
   "cell_type": "code",
   "execution_count": 3,
   "metadata": {},
   "outputs": [],
   "source": [
    "\n",
    "# (ii) create and test classifiers\n",
    "k,S = 5,10                        # k=number of nearest neighbors; S=number of data subsets for cross validation\n",
    "X_test = np.array([[2,1],[5,1],[-1,1]])   # Some additional data vectors to be tested "
   ]
  },
  {
   "cell_type": "code",
   "execution_count": 4,
   "metadata": {},
   "outputs": [
    {
     "name": "stdout",
     "output_type": "stream",
     "text": [
      "Naive KNN Classifier: \n",
      "------------------------\n",
      "S= 10  fold Cross-Validation of naive  5 -NN-Classifier requires  5.848620705999963  seconds. Confusion error probability matrix is \n",
      " [[0.86 0.13]\n",
      " [0.14 0.87]]\n",
      "Probability of a classification error is pE =  0.135\n",
      "New data vector x_test= [2 1]  is most likely from class  0 ; class probabilities are p_class =  [0.0, 1.0]\n",
      "New data vector x_test= [5 1]  is most likely from class  0 ; class probabilities are p_class =  [0.0, 1.0]\n",
      "New data vector x_test= [-1  1]  is most likely from class  0 ; class probabilities are p_class =  [1.0, 0.0]\n"
     ]
    }
   ],
   "source": [
    "# (ii.a) test of naive KNN classifier\n",
    "print(\"Naive KNN Classifier:\",\"\\n------------------------\")\n",
    "\n",
    "knnc = KNNClassifier(C,k)         # create classifier object of class KNNClassifier\n",
    "\n",
    "t1=perf_counter()                        # start time   # ORIGINAL 'clock()' \n",
    "\n",
    "pE_naive,pCE_naive = knnc.crossvalidate(S,X,T) # do S-fold cross validation for data X,T\n",
    "\n",
    "t2=perf_counter()                        # end time   # ORIGINAL 'clock()'\n",
    "t_naive=t2-t1                     # wall time required by the naive KNN algorithmus (in seconds)#\n",
    "print(\"S=\", S, \" fold Cross-Validation of naive \", k, \"-NN-Classifier requires \", t_naive, \" seconds. Confusion error probability matrix is \\n\", pCE_naive)\n",
    "print(\"Probability of a classification error is pE = \", pE_naive)\n",
    "knnc.fit(X,T)                     # train classifier with whole data set\n",
    "for x_test in X_test:             # Test some additional data vectors x_test from X_test         \n",
    "    t_test,p_class,idxNN = knnc.predict(x_test,k)\n",
    "    print(\"New data vector x_test=\", x_test, \" is most likely from class \", t_test, \"; class probabilities are p_class = \", p_class)\n",
    "    "
   ]
  },
  {
   "cell_type": "code",
   "execution_count": 7,
   "metadata": {},
   "outputs": [
    {
     "name": "stdout",
     "output_type": "stream",
     "text": [
      "\n",
      "Fast KNN Classifier based on KD-Trees: \n",
      "---------------------------------------\n",
      "S= 10  fold Cross-Validation of KD-tree  5 -NN-Classifier requires  0.33397247899995364  seconds. Confusion error probability matrix is \n",
      " [[0.86 0.13]\n",
      " [0.14 0.87]]\n",
      "Probability of a classification error is pE =  0.49\n",
      "New data vector x_test= [2 1]  is most likely from class  0 ; class probabilities are p_class =  [0.0, 1.0]\n",
      "New data vector x_test= [5 1]  is most likely from class  0 ; class probabilities are p_class =  [0.0, 1.0]\n",
      "New data vector x_test= [-1  1]  is most likely from class  0 ; class probabilities are p_class =  [1.0, 0.0]\n"
     ]
    }
   ],
   "source": [
    "# (ii.b) test of KD-tree KNN classifier\n",
    "print(\"\\nFast KNN Classifier based on KD-Trees:\",\"\\n---------------------------------------\")\n",
    "#t_kdtree,pE_kdtree,pCE_kdtree=-1,-1,-1      # REPLACE BY YOUR OWN CODE\n",
    "fknnc = FastKNNClassifier(C,k)\n",
    "\n",
    "t_F1=perf_counter()\n",
    "\n",
    "pE_KD, pCE_KD = fknnc.crossvalidate(S,X,T)\n",
    "\n",
    "t_F2=perf_counter()\n",
    "t_F=t_F2-t_F1\n",
    "\n",
    "print(\"S=\", S, \" fold Cross-Validation of KD-tree \", k, \"-NN-Classifier requires \", t_F, \" seconds. Confusion error probability matrix is \\n\", pCE_naive)\n",
    "print(\"Probability of a classification error is pE = \", pE_KD)\n",
    "\n",
    "\n",
    "fknnc.fit(X,T)\n",
    "for x_test in X_test:\n",
    "    t_test,p_class,idxNN = fknnc.predict(x_test,k)\n",
    "    print(\"New data vector x_test=\", x_test, \" is most likely from class \", t_test, \"; class probabilities are p_class = \", p_class)\n",
    "    "
   ]
  },
  {
   "cell_type": "code",
   "execution_count": null,
   "metadata": {},
   "outputs": [],
   "source": [
    "# (iii) plot data\n",
    "f=plt.figure()\n",
    "a = f.add_subplot(111)\n",
    "a.plot(X1.T[0],X1.T[1],'rx')               # plot data vectors of class 1\n",
    "a.plot(X2.T[0],X2.T[1],'g+')               # plot data vectors of class 2\n",
    "a.set_xlabel('feature x1');\n",
    "a.set_ylabel('feature x2');\n",
    "a.set_title('Naive: '+str(t_naive)+'sec/ KD-Tree: '+str(t_kdtree)+'sec; Classification Error='+str(pE_naive)+'/'+str(pE_kdtree));\n",
    "\n",
    "plt.show()"
   ]
  },
  {
   "cell_type": "code",
   "execution_count": null,
   "metadata": {},
   "outputs": [],
   "source": []
  }
 ],
 "metadata": {
  "kernelspec": {
   "display_name": "Python 3",
   "language": "python",
   "name": "python3"
  },
  "language_info": {
   "codemirror_mode": {
    "name": "ipython",
    "version": 3
   },
   "file_extension": ".py",
   "mimetype": "text/x-python",
   "name": "python",
   "nbconvert_exporter": "python",
   "pygments_lexer": "ipython3",
   "version": "3.7.0"
  }
 },
 "nbformat": 4,
 "nbformat_minor": 2
}
