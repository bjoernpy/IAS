{
 "cells": [
  {
   "cell_type": "markdown",
   "metadata": {},
   "source": [
    "# Aufgabe 1"
   ]
  },
  {
   "cell_type": "code",
   "execution_count": 1,
   "metadata": {},
   "outputs": [],
   "source": [
    "import numpy as np\n",
    "from numpy import linalg as LA"
   ]
  },
  {
   "cell_type": "code",
   "execution_count": 2,
   "metadata": {},
   "outputs": [],
   "source": [
    "def getKNearestNeighbors(x,X,k):  # realizes nearest neighbor search of x in database\n",
    "    \"\"\"\n",
    "    compute the k nearest neighbors for a query vector x given a data matrix X\n",
    "    :param x: the query vector x\n",
    "    :param X: the N x D data matrix (in each row there is data vector) as a numpy array\n",
    "    :param k: number of nearest-neighbors to be returned\n",
    "    :return: return list of k line indixes referring to the k nearest neighbors of x in X\n",
    "    \"\"\"\n",
    "    \n",
    "    #verwenden von np.linalg.norm und np.argsort!\n",
    "    \n",
    "    \n",
    "    d=[sum([((x[j] - X[i][j])**2) for j in range(len(X[0]))]) for i in range(len(X))]\n",
    "\n",
    "    return [d.index(sorted(d)[i]) for i in range(k)]"
   ]
  },
  {
   "cell_type": "code",
   "execution_count": 3,
   "metadata": {},
   "outputs": [
    {
     "name": "stdout",
     "output_type": "stream",
     "text": [
      "Data matrix X=\n",
      " [[1 2 3]\n",
      " [2 3 4]\n",
      " [3 4 5]\n",
      " [4 5 6]]\n",
      "Test vector x= [1.5 3.6 5.7]\n"
     ]
    }
   ],
   "source": [
    "# ***** MAIN PROGRAM ********\n",
    "\n",
    "# (i) Generate dummy data \n",
    "X = np.array([[1,2,3],[2,3,4],[3,4,5],[4,5,6]]);      # data matrix X: list of data vectors (=database) of dimension D=3\n",
    "x = np.array([1.5,3.6,5.7]);                          # a test data vector\n",
    "print(\"Data matrix X=\\n\",X)\n",
    "print(\"Test vector x=\",x)"
   ]
  },
  {
   "cell_type": "code",
   "execution_count": 4,
   "metadata": {},
   "outputs": [
    {
     "name": "stdout",
     "output_type": "stream",
     "text": [
      "Euklidean distances to x:  [3.178049716414141, 1.8708286933869709, 1.7029386365926402, 2.8809720581775866]\n"
     ]
    }
   ],
   "source": [
    "# (ii) Print all Euklidean distances to test vector x\n",
    "print(\"Euklidean distances to x: \", [LA.norm(x-X[i]) for i in range(len(X))])   # REPLACE! compute list of Euklidean distances   "
   ]
  },
  {
   "cell_type": "code",
   "execution_count": 5,
   "metadata": {},
   "outputs": [
    {
     "name": "stdout",
     "output_type": "stream",
     "text": [
      "idx_knn= [2, 1]\n"
     ]
    }
   ],
   "source": [
    "# (iii) Search for k nearest neighbor\n",
    "k=2\n",
    "idx_knn = getKNearestNeighbors(x,X,k)                # get indexes of k nearest neighbors\n",
    "print(\"idx_knn=\",idx_knn)"
   ]
  },
  {
   "cell_type": "code",
   "execution_count": 6,
   "metadata": {},
   "outputs": [
    {
     "name": "stdout",
     "output_type": "stream",
     "text": [
      "The k Nearest Neighbors of x are the following vectors:\n",
      "The 1 th nearest neighbor is: X[ 2 ]= [3 4 5]  with distance  1.7029386365926402\n",
      "The 2 th nearest neighbor is: X[ 1 ]= [2 3 4]  with distance  1.8708286933869709\n"
     ]
    }
   ],
   "source": [
    "# (iv) output results\n",
    "print(\"The k Nearest Neighbors of x are the following vectors:\")\n",
    "for i in range(k):\n",
    "    idx=idx_knn[i]\n",
    "    print(\"The\", i+1, \"th nearest neighbor is: X[\",idx,\"]=\",X[idx],\" with distance \", np.linalg.norm(X[idx]-x))"
   ]
  },
  {
   "cell_type": "code",
   "execution_count": null,
   "metadata": {},
   "outputs": [],
   "source": []
  }
 ],
 "metadata": {
  "kernelspec": {
   "display_name": "Python 3",
   "language": "python",
   "name": "python3"
  },
  "language_info": {
   "codemirror_mode": {
    "name": "ipython",
    "version": 3
   },
   "file_extension": ".py",
   "mimetype": "text/x-python",
   "name": "python",
   "nbconvert_exporter": "python",
   "pygments_lexer": "ipython3",
   "version": "3.7.0"
  }
 },
 "nbformat": 4,
 "nbformat_minor": 2
}
