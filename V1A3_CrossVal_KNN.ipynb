{
 "cells": [
  {
   "cell_type": "code",
   "execution_count": 5,
   "metadata": {},
   "outputs": [
    {
     "data": {
      "text/html": [
       "<style>.container { width:100% !important; }</style>"
      ],
      "text/plain": [
       "<IPython.core.display.HTML object>"
      ]
     },
     "metadata": {},
     "output_type": "display_data"
    }
   ],
   "source": [
    "from IPython.core.display import display, HTML\n",
    "display(HTML(\"<style>.container { width:100% !important; }</style>\"))\n",
    "# Extend display"
   ]
  },
  {
   "cell_type": "markdown",
   "metadata": {},
   "source": [
    "# Aufgabe 1.3"
   ]
  },
  {
   "cell_type": "markdown",
   "metadata": {},
   "source": [
    "## a)\n",
    "Allgemeine Fragen: <br>\n",
    "   - Welche Klassifikationsfehlerwahrscheinlichkeit erhält man, wenn man einen k-NNKlassifikator für k = 1 auf der gespeicherten Lern-Daten-Menge X testet?\n",
    "      - 0, da es nur einen Nachbarn gibt\n",
    "   - Bedeutet dies, dass der k-NN-Klassifikator auch auf neuen Datenvektoren x (welche nicht gespeichert sind) immer korrekt klassifiziert?\n",
    "      - Nein, \n",
    "   - Was kann man tun um einen realistischen Schätzwert des Generalisierungsfehlers (d.h. der Klassifikationsfehlerwahrscheinlichkeit für neue Daten) zu erhalten ?\n",
    "      - Indem man bekannte gelabelte Daten klassifizieren lässt und die Fehlerwahrschenilichkeit überprüft (Kreuzvalidierung)\n",
    "   - Erklären Sie kurz den Begriff Kreuzvalidierung und ihren Zweck! Lesen Sie hierzu im Skript (siehe Folien zu Kapitel 2).\n",
    "      - Aufteilung der Daten in S Teile, ein Teil wird zum Test genommen, die restlichen S-1 Teile werden zum Trainieren hergenommen. Es wird demnach S-mal trainiert. <br>\n",
    "      \n",
    "## b)\n",
    "Code Review: <br>\n",
    "   - Was bedeutet der Parameter S?\n",
    "      - Anzahl der Teile in die die Daten aufgeteilt werden\n",
    "   - Welche Rolle spielen die Variablen perm sowie Xp und Tp?\n",
    "      - Permutation von Trainings- und Testdaten, Xp und Tp sind die permutierten Daten (Training / Test)\n",
    "   - Welche Rolle spielt idxS?\n",
    "      - idxS ist eine Liste mit dem eben permutierten Daten (über diese iteriert man S mal)\n",
    "   - Was bewirkt die äußere Schleife for idxTest in idxS: ...?\n",
    "      - Iterierung über alle möglichen eben erstellten Testdaten\n",
    "   - Welche Rolle haben die Variablen X_learn und T_learn bzw. X_test und T_test?\n",
    "      - Trainings- und Testdaten für den Classifier\n",
    "   - Was passiert für S=1?\n",
    "      - Es gibt nur Trainingsdaten, keine Testdaten\n",
    "   - Was bewirkt die innere Schleife for i in range(len(X_test)): ...?\n",
    "      - Iterierung über alle Datenvektoren, welche getestet werden sollen\n",
    "   - Was bedeuten die Ergebnisse der Kreuzvalidierung pClassError und pConfErrors?\n",
    "      - pClassError ist die Anzahl der Klassenfehler, pConfErrors gibt die Wahrscheinlichkeit eines Klassifizierungsfehler\n",
    "      \n",
    "## c)\n"
   ]
  },
  {
   "cell_type": "code",
   "execution_count": 2,
   "metadata": {},
   "outputs": [],
   "source": [
    "import numpy as np\n",
    "import scipy.spatial\n",
    "from random import randint\n",
    "import matplotlib \n",
    "import matplotlib.pyplot as plt \n",
    "from time import perf_counter\n",
    "from V1A2_Classifier import *"
   ]
  },
  {
   "cell_type": "code",
   "execution_count": 3,
   "metadata": {},
   "outputs": [
    {
     "name": "stdout",
     "output_type": "stream",
     "text": [
      "Data size: N= 1000 , D= 2\n"
     ]
    }
   ],
   "source": [
    "# (i) create some synthetic data (2-dimensional Gaussian)\n",
    "C=2                               # two classes\n",
    "N1,N2=500,500                     # N1 and N2 data vectors for the two classes\n",
    "mu1, mu2 = [1,1], [3,1]           # expectations for the two classes\n",
    "sigma1 = [[1,0.5],\\\n",
    "          [0.5,1]]                # covariance matrix for class 1\n",
    "sigma2 = [[1,0.5],\\\n",
    "          [0.5,1]]                # covariance matrix for class 2\n",
    "X1 = np.random.multivariate_normal(mu1,sigma1,(N1))    # Gaussian data vectors for class 1\n",
    "X2 = np.random.multivariate_normal(mu2,sigma2,(N2))    # Gaussian data vectors for class 2\n",
    "T1,T2 = N1*[0],N2*[1]             # corresponding class labels \n",
    "X = np.concatenate((X1,X2))       # entire data set\n",
    "T = np.concatenate((T1,T2))       # entire label set\n",
    "N,D = X.shape[0], X.shape[1]      # size of data set\n",
    "print(\"Data size: N=\",N,\", D=\",D)"
   ]
  },
  {
   "cell_type": "code",
   "execution_count": null,
   "metadata": {},
   "outputs": [],
   "source": []
  },
  {
   "cell_type": "code",
   "execution_count": 4,
   "metadata": {},
   "outputs": [
    {
     "name": "stdout",
     "output_type": "stream",
     "text": [
      "\n",
      "Naive KNN Classifier: \n",
      "------------------------\n",
      "S= 10  fold Cross-Validation of naive  5 -NN-Classifier requires  7.9739202  seconds. Confusion error probability matrix is \n",
      " [[0.1 0.1]\n",
      " [0.9 0.9]]\n",
      "Probability of a classification error is pE =  0.5\n",
      "New data vector x_test= [2 1]  is most likely from class  0 ; class probabilities are p_class =  [0.6, 0.4]\n",
      "New data vector x_test= [5 1]  is most likely from class  0 ; class probabilities are p_class =  [0.0, 1.0]\n",
      "New data vector x_test= [-1  1]  is most likely from class  0 ; class probabilities are p_class =  [1.0, 0.0]\n",
      "\n",
      "Fast KNN Classifier based on KD-Trees: \n",
      "---------------------------------------\n"
     ]
    },
    {
     "data": {
      "image/png": "[encoded data removed]",
      "text/plain": [
       "<Figure size 432x288 with 1 Axes>"
      ]
     },
     "metadata": {
      "needs_background": "light"
     },
     "output_type": "display_data"
    }
   ],
   "source": [
    "# (ii) create and test classifiers\n",
    "k,S = 5,10                        # k=number of nearest neighbors; S=number of data subsets for cross validation\n",
    "X_test = np.array([[2,1],[5,1],[-1,1]])   # Some additional data vectors to be tested \n",
    "\n",
    "# (ii.a) test of naive KNN classifier\n",
    "print(\"\\nNaive KNN Classifier:\",\"\\n------------------------\")\n",
    "knnc = KNNClassifier(C,k)         # create classifier object of class KNNClassifier\n",
    "t1=perf_counter()                        # start time     \n",
    "pE_naive,pCE_naive = knnc.crossvalidate(S,X,T) # do S-fold cross validation for data X,T\n",
    "t2=perf_counter()                        # end time\n",
    "t_naive=t2-t1                     # wall time required by the naive KNN algorithmus (in seconds)\n",
    "print(\"S=\", S, \" fold Cross-Validation of naive \", k, \"-NN-Classifier requires \", t_naive, \" seconds. Confusion error probability matrix is \\n\", pCE_naive)\n",
    "print(\"Probability of a classification error is pE = \", pE_naive)\n",
    "knnc.fit(X,T)                     # train classifier with whole data set\n",
    "for x_test in X_test:             # Test some additional data vectors x_test from X_test         \n",
    "    t_test,p_class,idxNN = knnc.predict(x_test,k)\n",
    "    print(\"New data vector x_test=\", x_test, \" is most likely from class \", t_test, \"; class probabilities are p_class = \", p_class)\n",
    "\n",
    "# (ii.b) test of KD-tree KNN classifier\n",
    "print(\"\\nFast KNN Classifier based on KD-Trees:\",\"\\n---------------------------------------\")\n",
    "t_kdtree,pE_kdtree,pCE_kdtree=-1,-1,-1      # REPLACE BY YOUR OWN CODE\n",
    "\n",
    "# (iii) plot data\n",
    "f=plt.figure()\n",
    "a = f.add_subplot(111)\n",
    "a.plot(X1.T[0],X1.T[1],'rx')               # plot data vectors of class 1\n",
    "a.plot(X2.T[0],X2.T[1],'g+')               # plot data vectors of class 2\n",
    "a.set_xlabel('feature x1');\n",
    "a.set_ylabel('feature x2');\n",
    "a.set_title('Naive: '+str(t_naive)+'sec/ KD-Tree: '+str(t_kdtree)+'sec; Classification Error='+str(pE_naive)+'/'+str(pE_kdtree));\n",
    "\n",
    "plt.show()"
   ]
  },
  {
   "cell_type": "code",
   "execution_count": null,
   "metadata": {},
   "outputs": [],
   "source": []
  },
  {
   "cell_type": "code",
   "execution_count": null,
   "metadata": {},
   "outputs": [],
   "source": []
  }
 ],
 "metadata": {
  "kernelspec": {
   "display_name": "Python 3",
   "language": "python",
   "name": "python3"
  },
  "language_info": {
   "codemirror_mode": {
    "name": "ipython",
    "version": 3
   },
   "file_extension": ".py",
   "mimetype": "text/x-python",
   "name": "python",
   "nbconvert_exporter": "python",
   "pygments_lexer": "ipython3",
   "version": "3.7.0"
  }
 },
 "nbformat": 4,
 "nbformat_minor": 2
}
