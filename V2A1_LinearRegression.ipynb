{
 "cells": [
  {
   "cell_type": "code",
   "execution_count": 1,
   "metadata": {},
   "outputs": [
    {
     "data": {
      "text/html": [
       "<style>.container { width:100% !important; }</style>"
      ],
      "text/plain": [
       "<IPython.core.display.HTML object>"
      ]
     },
     "metadata": {},
     "output_type": "display_data"
    }
   ],
   "source": [
    "# increase display width\n",
    "from IPython.core.display import display, HTML\n",
    "display(HTML(\"<style>.container { width:100% !important; }</style>\"))"
   ]
  },
  {
   "cell_type": "markdown",
   "metadata": {},
   "source": [
    "# Aufgabe 2.1\n",
    "## a)\n",
    "\n",
    "   - Erklären der Funktionen:\n",
    "      - fun_true: Berechnet die Funktionswerte der Parabel mit input X\n",
    "      - generateDataSet: Generiert die Datenmatrix X und die Werte T. X-Werte liegen zwischen xmin und xmax, die Werte T werden anschliend mit fun_true berechnet und verzehrt mit sd_noise\n",
    "      - getDataError: Berechnet die least-squares Feher Funktion $ E_d(w) $\n",
    "      - phi_polynomial: gibt $ \\phi(x) $ in abhängigkeit der dimension deg zurück\n",
    "   - Von welcher Funktion sind die Original-Daten $ (x_n , t_n ) $ gesampelt?\n",
    "      - Von fun_true()\n",
    "   - Wie lauten Basisfunktionen $ \\phi_j (x ) $ für j = 1, ...,deg des linearen Modells?\n",
    "      - $ \\phi_0 = 1, \\phi_1 = x, \\phi_2 = x^2, \\phi_3 = x^3, \\phi_4 = x^4, \\phi_5 = x^5 $\n",
    "   - Welche Rolle hat die Variable lmbda?\n",
    "      - lmbda ist der Regularisierungskoeffizient\n",
    "   - Worin unterscheiden sich die Variablen X,T von X_test,T_test?\n",
    "      - X und T sind Trainingsdaten\n",
    "      - X_test und T_test sind Testdaten\n",
    "   - Was stellen im Plot die grünen Kreuze/Punkte, grüne Kurve, rote Kurve dar?\n",
    "      - grüne Kreuze: Lerndaten\n",
    "      - grüne Punkte: Testdaten\n",
    "      - grüne Kurve: ursprüngliche Parabel\n",
    "      - rote Kurve: LSR Regressions Kurve\n",
    "      \n",
    "## c)\n",
    " Testen Sie das Programm zunächst ohne Regularisierung (λ = 0) für N = 10:\n",
    "   -  Welche optimalen Gewichte WLSR erhalten Sie für Polynomgrad 5? Wie groß ist der Lern-Datenfehler ED (WLSR )? Wie groß ist der Fehler auf den Testdaten? Warum ist der Test-Daten-Fehler größer als der Lern-Daten-Fehler?\n",
    "      - WLSR: 7.06500519 | -3.86916089 | 1.16066097 | 0.27523414 | 0.23060499 | 0.02613605\n",
    "      - Lerndatenfehler: 151.66995610334055\n",
    "      - Testdatenfehler: 395.93589328572045\n",
    "      - ???\n",
    "   -  Vergleichen Sie Lern- und Test-Datenfehler für verschiedene Polynomgrade 1, 2, 3,4, 5, 7, 9? Welche Phänomene treten bei zu niedrigem bzw. zu hohem Polynomgrad auf? Warum?\n",
    "      - zu niedrig (1) : Lern- und Testdatenfehler sehr hoch, da die Funktion eine Gerade ist\n",
    "      - zu hoch (ab 7) : Lerndatenfehler sehr niedrig,da die Lerndatenpunkte (fast) genau auf dem Polynom liegen. Testdatenfehler sehr hoch, wegen Overfitting\n",
    "   \n",
    "<table>\n",
    "  <thead>\n",
    "    <tr>\n",
    "      <th>Polynomgrad</th>\n",
    "      <th>Lerndatenfehler</th>\n",
    "      <th>Testdatenfehler</th>\n",
    "    </tr>\n",
    "  </thead>\n",
    "  <tbody>\n",
    "    <tr>\n",
    "      <td>1</td>\n",
    "      <td>1109.2710261079376</td>\n",
    "      <td>2371.9893767560047</td>\n",
    "    </tr>\n",
    "    <tr>\n",
    "      <td>2</td>\n",
    "      <td>164.25156650010842</td>\n",
    "      <td>215.77040333953397</td>\n",
    "    </tr>\n",
    "    <tr>\n",
    "      <td>3</td>\n",
    "      <td>163.50151393233</td>\n",
    "      <td>209.67536254495394</td>\n",
    "    </tr>\n",
    "    <tr>\n",
    "      <td>4</td>\n",
    "      <td>154.6521447284572</td>\n",
    "      <td>374.2566549998215</td>\n",
    "    </tr>\n",
    "    <tr>\n",
    "      <td>5</td>\n",
    "      <td>151.66995610334055</td>\n",
    "      <td>395.93589328572045</td>\n",
    "    </tr>\n",
    "    <tr>\n",
    "      <td>7</td>\n",
    "      <td>119.13824260532138</td>\n",
    "      <td>1227.24338382553</td>\n",
    "    </tr>\n",
    "    <tr>\n",
    "      <td>9</td>\n",
    "      <td>5.080050324384829e-16</td>\n",
    "      <td>37529.47205995081</td>\n",
    "    </tr>\n",
    "  </tbody>\n",
    "</table>\n",
    "<br>\n",
    "   - Bestimmen Sie das mittlere Gewicht $\\frac{1}{M}\\sum_{j=0}^{M-1} |W_{LSR_j}| $ für verschiedene Polynom-grade 1,2,4,6,9? Warum werden die Gewichte im Mittel größer?\n",
    "      - ???\n",
    "      \n",
    "<table>\n",
    "  <thead>\n",
    "    <tr>\n",
    "      <th>Polynomgrad</th>\n",
    "      <th>mittleres Gewicht</th>\n",
    "    </tr>\n",
    "  </thead>\n",
    "  <tbody>\n",
    "    <tr>\n",
    "      <td>1</td>\n",
    "      <td>16.498520760714317</td>\n",
    "    </tr>\n",
    "    <tr>\n",
    "      <td>2</td>\n",
    "      <td>2.803458967619471</td>\n",
    "    </tr>\n",
    "    <tr>\n",
    "      <td>4</td>\n",
    "      <td>2.645759485825437</td>\n",
    "    </tr>\n",
    "    <tr>\n",
    "      <td>6</td>\n",
    "      <td>3.0791985500706756</td>\n",
    "    </tr>\n",
    "    <tr>\n",
    "      <td>9</td>\n",
    "      <td>33.43074729298795</td>\n",
    "    </tr>\n",
    "  </tbody>\n",
    "</table>\n",
    "<br>\n",
    "       \n",
    "   - Bestimmen Sie den mittleren Lern- bzw. Test-Datenfehler (pro Datenpunkt) für Polynomgrad 9 und verschiedene Größen des Datensets N = 10, 100, 1000, 10000. Warum wird der eine Fehler kleiner und der andere größer?\n",
    "      - ???\n",
    "      \n",
    "<table>\n",
    "  <thead>\n",
    "    <tr>\n",
    "      <th>N</th>\n",
    "      <th>mittlerer Lerndatenfehler</th>\n",
    "      <th>mittlerer Testdatenfehler</th>\n",
    "    </tr>\n",
    "  </thead>\n",
    "  <tbody>\n",
    "    <tr>\n",
    "      <td>10</td>\n",
    "      <td>5.080050324384829e-17</td>\n",
    "      <td>3752.947205995081</td>\n",
    "    </tr>\n",
    "    <tr>\n",
    "      <td>100</td>\n",
    "      <td>43.331059579081</td>\n",
    "      <td>44.07319425691771</td>\n",
    "    </tr>\n",
    "    <tr>\n",
    "      <td>1000</td>\n",
    "      <td>47.43467339586492</td>\n",
    "      <td>53.18131707204158</td>\n",
    "    </tr>\n",
    "    <tr>\n",
    "      <td>10000</td>\n",
    "      <td>50.40076433890375</td>\n",
    "      <td>50.423607486606116</td>\n",
    "    </tr>\n",
    "  </tbody>\n",
    "</table>\n",
    "<br>      \n",
    "      \n",
    "   - Warum wird der eine Fehler kleiner und der andere größer?  Wieviele Daten N braucht man, damit für Polynomgrad 2 die tatsächlichen Koeffizienten der Original-Funktion fun_true bis auf 10% Genauigkeit geschätzt werden können? (ungefährer Wert reicht)\n"
   ]
  },
  {
   "cell_type": "code",
   "execution_count": 21,
   "metadata": {},
   "outputs": [],
   "source": [
    "import numpy as np \n",
    "import matplotlib.pyplot as plt"
   ]
  },
  {
   "cell_type": "code",
   "execution_count": 32,
   "metadata": {},
   "outputs": [],
   "source": [
    "def fun_true(X):                              # compute 1-dim. parable function; X must be Nx1 data matrix\n",
    "    w2,w1,w0 = 3.0,-1.0,2.0                   # true parameters of parable y(x)=w0+w1*x+w2*x*x\n",
    "    return w0+w1*X+w2*np.multiply(X,X)        # return function values (same size as X)\n",
    "\n",
    "def generateDataSet(N,xmin,xmax,sd_noise):    # generate data matrix X and target values T\n",
    "    X=xmin+np.random.rand(N,1)*(xmax-xmin)    # get random x values uniformly in [xmin;xmax)\n",
    "    T=fun_true(X);                            # target values without noise\n",
    "    if(sd_noise>0):\n",
    "        T=T+np.random.normal(0,sd_noise,X.shape) # add noise \n",
    "    return X,T\n",
    "\n",
    "def getDataError(Y,T):                        # compute data error (least squares) between prediction Y and true target values T\n",
    "    D=np.multiply(Y-T,Y-T);                   # squared differences between Y and T\n",
    "    return 0.5*sum(sum(D));                   # return least-squares data error function E_D\n",
    "\n",
    "def phi_polynomial(x,deg=1):                            # compute polynomial basis function vector phi(x) for data x \n",
    "    assert(np.shape(x)==(1,)), \"currently only 1dim data supported\"\n",
    "    return np.array([x[0]**i for i in range(deg+1)]).T; # returns feature vector phi(x)=[1 x x**2 x**3 ... x**deg]\n",
    "\n",
    "def predict(x,W_LSR,deg):\n",
    "    return sum([(x**i)*W_LSR[i] for i in range(deg+1)])"
   ]
  },
  {
   "cell_type": "code",
   "execution_count": 111,
   "metadata": {},
   "outputs": [
    {
     "name": "stdout",
     "output_type": "stream",
     "text": [
      "X= [[ 2.71320643]\n",
      " [-4.79248051]\n",
      " [ 1.33648235]\n",
      " ...\n",
      " [-4.94904704]\n",
      " [-1.17363696]\n",
      " [ 3.93687388]] T= [[27.20683995]\n",
      " [74.80575054]\n",
      " [ 0.08759676]\n",
      " ...\n",
      " [86.5206194 ]\n",
      " [13.05392372]\n",
      " [25.84268715]]\n"
     ]
    }
   ],
   "source": [
    "# (I) generate data \n",
    "np.random.seed(10)                            # set seed of random generator (to be able to regenerate data)\n",
    "N=10000                                          # number of data samples\n",
    "xmin,xmax=-5.0,5.0                            # x limits\n",
    "sd_noise=10                                   # standard deviation of Guassian noise\n",
    "X,T           = generateDataSet(N, xmin,xmax, sd_noise)             # generate training data\n",
    "X_test,T_test = generateDataSet(N, xmin,xmax, sd_noise)             # generate test data\n",
    "print(\"X=\",X, \"T=\",T)"
   ]
  },
  {
   "cell_type": "code",
   "execution_count": 112,
   "metadata": {},
   "outputs": [
    {
     "name": "stdout",
     "output_type": "stream",
     "text": [
      "PHI= [[ 1.00000000e+00  2.71320643e+00  7.36148915e+00 ...  1.08238027e+03\n",
      "   2.93672111e+03  7.96793059e+03]\n",
      " [ 1.00000000e+00 -4.79248051e+00  2.29678694e+01 ... -5.80660770e+04\n",
      "   2.78280542e+05 -1.33365407e+06]\n",
      " [ 1.00000000e+00  1.33648235e+00  1.78618507e+00 ...  7.61627457e+00\n",
      "   1.01790165e+01  1.36040759e+01]\n",
      " ...\n",
      " [ 1.00000000e+00 -4.94904704e+00  2.44930666e+01 ... -7.27195313e+04\n",
      "   3.59892381e+05 -1.78112432e+06]\n",
      " [ 1.00000000e+00 -1.17363696e+00  1.37742372e+00 ... -3.06716016e+00\n",
      "   3.59973254e+00 -4.22477917e+00]\n",
      " [ 1.00000000e+00  3.93687388e+00  1.54989760e+01 ...  1.46575208e+04\n",
      "   5.77048107e+04  2.27176562e+05]]\n",
      "W_LSR= [[ 2.07351185e+00]\n",
      " [-1.45839673e+00]\n",
      " [ 3.13087097e+00]\n",
      " [ 1.23847655e-01]\n",
      " [-1.70122836e-02]\n",
      " [-1.55753533e-02]\n",
      " [ 6.48794907e-04]\n",
      " [ 9.15297291e-04]\n",
      " [-8.45326398e-06]\n",
      " [-1.88907424e-05]]\n"
     ]
    }
   ],
   "source": [
    "# (II) generate linear least squares model for regression\n",
    "lmbda=0                                                           # no regression\n",
    "deg=9                                                             # degree of polynomial basis functions\n",
    "N,D = np.shape(X)                                                 # shape of data matrix X\n",
    "N,K = np.shape(T)                                                 # shape of target value matrix T\n",
    "PHI = np.array([phi_polynomial(X[i],deg).T for i in range(N)])    # generate design matrix\n",
    "N,M = np.shape(PHI)                                               # shape of design matrix\n",
    "print(\"PHI=\", PHI)\n",
    "#W_LSR = np.zeros((M,1))                                           # REPLACE THIS BY REGULARIZED LEAST SQUARES WEIGHTS!  \n",
    "W_LSR = np.linalg.pinv(PHI).dot(T)\n",
    "\n",
    "print(\"W_LSR=\",W_LSR)"
   ]
  },
  {
   "cell_type": "code",
   "execution_count": 113,
   "metadata": {},
   "outputs": [
    {
     "name": "stdout",
     "output_type": "stream",
     "text": [
      "Y_test= [[13.90315424]\n",
      " [14.3474164 ]\n",
      " [12.26034536]\n",
      " ...\n",
      " [ 8.5543489 ]\n",
      " [32.54292261]\n",
      " [69.76012518]]\n",
      "T_test= [[ 5.40680346]\n",
      " [ 9.93034753]\n",
      " [ 3.95252393]\n",
      " ...\n",
      " [-0.26198369]\n",
      " [ 3.69076661]\n",
      " [50.26755836]]\n",
      "learn data error =  504007.6433890375\n",
      "test data error =  504236.07486606116\n",
      "W_LSR= [[ 2.07351185e+00]\n",
      " [-1.45839673e+00]\n",
      " [ 3.13087097e+00]\n",
      " [ 1.23847655e-01]\n",
      " [-1.70122836e-02]\n",
      " [-1.55753533e-02]\n",
      " [ 6.48794907e-04]\n",
      " [ 9.15297291e-04]\n",
      " [-8.45326398e-06]\n",
      " [-1.88907424e-05]]\n",
      "mean weight =  0.6820806285788659\n"
     ]
    }
   ],
   "source": [
    "# (III) make predictions for test data\n",
    "#Y_test = np.zeros((N,1))   # REPLACE THIS BY PROGNOSIS FOR TEST DATA X_test! (result should be N x 1 matrix, i.e., one prognosis per row)\n",
    "Y_test = np.array([predict(x,W_LSR,deg) for x in X_test])\n",
    "#Y_learn = np.zeros((N,1))  # REPLACE THIS BY PROGNOSIS FOR LEARNING DATA X! (result should be N x 1 matrix, i.e., one prognosis per row)\n",
    "Y_learn = np.array([predict(x,W_LSR,deg) for x in X])\n",
    "print(\"Y_test=\",Y_test)\n",
    "print(\"T_test=\",T_test)\n",
    "print(\"learn data error = \", getDataError(Y_learn,T))\n",
    "print(\"test data error = \", getDataError(Y_test,T_test))\n",
    "print(\"W_LSR=\",W_LSR)\n",
    "print(\"mean weight = \", np.mean(np.mean(np.abs(W_LSR))))"
   ]
  },
  {
   "cell_type": "code",
   "execution_count": 114,
   "metadata": {},
   "outputs": [
    {
     "data": {
      "image/png": "[encoded data removed]",
      "text/plain": [
       "<Figure size 432x288 with 1 Axes>"
      ]
     },
     "metadata": {
      "needs_background": "light"
     },
     "output_type": "display_data"
    }
   ],
   "source": [
    "# (IV) plot data\n",
    "ymin,ymax = -50.0,150.0                     # interval of y data\n",
    "x_=np.arange(xmin,xmax,0.01)                # densely sampled x values\n",
    "Y_LSR = np.array([np.dot(W_LSR.T,np.array([phi_polynomial([x],deg)]).T)[0] for x in x_]);   # least squares prediction\n",
    "Y_true = fun_true(x_).flat\n",
    "\n",
    "fig = plt.figure()\n",
    "ax = fig.add_subplot(111)\n",
    "ax.scatter(X.flat,T.flat,c='g',marker='x',s=100)             # plot learning data points (green x)\n",
    "ax.scatter(X_test.flat,T_test.flat,c='g',marker='.',s=100)   # plot test data points (green .)\n",
    "ax.plot(x_,Y_LSR.flat, c='r')         # plot LSR regression curve (red)\n",
    "ax.plot(x_,Y_true, c='g')             # plot true function curve (green)\n",
    "ax.set_xlabel('x')                    # label on x-axis\n",
    "ax.set_ylabel('y')                    # label on y-axis\n",
    "ax.grid()                             # draw a grid\n",
    "plt.ylim((ymin,ymax))                 # set y-limits\n",
    "plt.show()                            # show plot on screen"
   ]
  },
  {
   "cell_type": "code",
   "execution_count": null,
   "metadata": {},
   "outputs": [],
   "source": []
  },
  {
   "cell_type": "code",
   "execution_count": null,
   "metadata": {},
   "outputs": [],
   "source": []
  }
 ],
 "metadata": {
  "kernelspec": {
   "display_name": "Python 3",
   "language": "python",
   "name": "python3"
  },
  "language_info": {
   "codemirror_mode": {
    "name": "ipython",
    "version": 3
   },
   "file_extension": ".py",
   "mimetype": "text/x-python",
   "name": "python",
   "nbconvert_exporter": "python",
   "pygments_lexer": "ipython3",
   "version": "3.7.0"
  }
 },
 "nbformat": 4,
 "nbformat_minor": 2
}
