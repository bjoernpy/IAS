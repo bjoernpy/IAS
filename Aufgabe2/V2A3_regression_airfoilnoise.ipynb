{
 "cells": [
  {
   "cell_type": "markdown",
   "metadata": {},
   "source": [
    "# Aufgabe 2.3"
   ]
  },
  {
   "cell_type": "code",
   "execution_count": 14,
   "metadata": {},
   "outputs": [],
   "source": [
    "# to log outputs start with: python V2A3_regression_airfoilnoise.py >V2A3_regression_airfoilnoise.log\n",
    "\n",
    "import numpy as np\n",
    "import pandas as pd\n",
    "\n",
    "from V2A2_Regression import *"
   ]
  },
  {
   "cell_type": "code",
   "execution_count": 15,
   "metadata": {},
   "outputs": [],
   "source": [
    "# ***** MAIN PROGRAM ********\n",
    "# (I) Hyper-Parameters\n",
    "S=3;               # S-fold cross-validation\n",
    "lmbda=1;           # regularization parameter (lambda>0 avoids also singularities)\n",
    "K=1;               # K for K-Nearest Neighbors\n",
    "flagKLinReg = 0;   # if flag==1 and K>=D then do a linear regression of the KNNs to make prediction\n",
    "deg=1;             # degree of basis function polynomials \n",
    "flagSTD=0;         # if >0 then standardize data before training (i.e., scale X to mean value 0 and standard deviation 1)\n",
    "N_pred=5;          # number of predictions on the training set for testing\n",
    "x_test_1 = [0,0,0,0,0];   # REPLACE dummy code: define test vector 1\n",
    "x_test_2 = [0,0,0,0,0];   # REPLACE dummy code: define test vector 2"
   ]
  },
  {
   "cell_type": "code",
   "execution_count": 16,
   "metadata": {},
   "outputs": [
    {
     "name": "stdout",
     "output_type": "stream",
     "text": [
      "Data set  ../../DATA/AirfoilSelfNoise/airfoil_self_noise.xls  has size N= 1502  and dimensionality D= 5\n",
      "X= [[1.00000e+03 0.00000e+00 3.04800e-01 7.13000e+01 2.66337e-03]\n",
      " [1.25000e+03 0.00000e+00 3.04800e-01 7.13000e+01 2.66337e-03]\n",
      " [1.60000e+03 0.00000e+00 3.04800e-01 7.13000e+01 2.66337e-03]\n",
      " ...\n",
      " [4.00000e+03 1.56000e+01 1.01600e-01 3.96000e+01 5.28487e-02]\n",
      " [5.00000e+03 1.56000e+01 1.01600e-01 3.96000e+01 5.28487e-02]\n",
      " [6.30000e+03 1.56000e+01 1.01600e-01 3.96000e+01 5.28487e-02]]\n",
      "T= [125.201 125.951 127.591 ... 106.604 106.224 104.204]\n",
      "x_test_1= [0, 0, 0, 0, 0]\n",
      "x_test_2= [0, 0, 0, 0, 0]\n",
      "number of basis functions M= 6\n"
     ]
    }
   ],
   "source": [
    "# (II) Load data \n",
    "fname='../../DATA/AirfoilSelfNoise/airfoil_self_noise.xls'\n",
    "airfoil_data = pd.read_excel(fname,0); # load data as pandas data frame \n",
    "T = airfoil_data.values[:,5]           # target values = noise load (= column 5 of data table)\n",
    "X = airfoil_data.values[:,:5]          # feature vectors (= column 0-4 of data table)\n",
    "N,D=X.shape                            # size and dimensionality of data set\n",
    "idx_perm = np.random.permutation(N)    # get random permutation for selection of test vectors \n",
    "print(\"Data set \",fname,\" has size N=\", N, \" and dimensionality D=\",D)\n",
    "print(\"X=\",X)\n",
    "print(\"T=\",T)\n",
    "print(\"x_test_1=\",x_test_1)\n",
    "print(\"x_test_2=\",x_test_2)\n",
    "print(\"number of basis functions M=\", len(phi_polynomial(X[1],deg)))"
   ]
  },
  {
   "cell_type": "code",
   "execution_count": 17,
   "metadata": {},
   "outputs": [
    {
     "name": "stdout",
     "output_type": "stream",
     "text": [
      "\n",
      "#### Least Squares Regression with regularization lambda= 1  ####\n",
      "lsr.W_LSR= None\n",
      "III.1) Some predictions on the training data:\n",
      "Prediction for X[ 366 ]= [2.0000e+03 5.3000e+00 2.2860e-01 7.1300e+01 5.1942e-03]  is y= None , whereas true value is T[ 366 ]= 125.89\n",
      "Prediction for X[ 393 ]= [5.00000e+02 7.30000e+00 2.28600e-01 7.13000e+01 1.04404e-02]  is y= None , whereas true value is T[ 393 ]= 136.798\n",
      "Prediction for X[ 91 ]= [5.00000e+03 1.50000e+00 3.04800e-01 3.96000e+01 3.92107e-03]  is y= None , whereas true value is T[ 91 ]= 116.241\n",
      "Prediction for X[ 111 ]= [4.00000e+02 3.00000e+00 3.04800e-01 5.55000e+01 4.52492e-03]  is y= None , whereas true value is T[ 111 ]= 126.159\n",
      "Prediction for X[ 134 ]= [2.00000e+03 3.00000e+00 3.04800e-01 3.96000e+01 4.95741e-03]  is y= None , whereas true value is T[ 134 ]= 120.532\n",
      "III.2) Some predicitions for new test vectors:\n",
      "Prediction for x_test_1 is y= None\n",
      "Prediction for x_test_2 is y= None\n",
      "III.3) S= 3 fold Cross Validation:\n",
      "absolute errors (E,sd,min,max)= None \n",
      "relative errors (E,sd,min,max)= None\n"
     ]
    }
   ],
   "source": [
    "# (III) Do least-squares regression with regularization \n",
    "print(\"\\n#### Least Squares Regression with regularization lambda=\", lmbda, \" ####\")\n",
    "lsr = None  # REPLACE dummy code: Create and fit Least-Squares Regressifier using polynomial basis function of degree deg and flagSTD for standardization of data  \n",
    "print(\"lsr.W_LSR=\",None)    # REPLACE dummy code: print weight vector for least squares regression  \n",
    "print(\"III.1) Some predictions on the training data:\")\n",
    "for i in range(N_pred): \n",
    "    n=idx_perm[i]\n",
    "    print(\"Prediction for X[\",n,\"]=\",X[n],\" is y=\",None,\", whereas true value is T[\",n,\"]=\",T[n])   # REPLACE dummy code: compute prediction for X[n]\n",
    "print(\"III.2) Some predicitions for new test vectors:\")\n",
    "print(\"Prediction for x_test_1 is y=\", None)    # REPLACE dummy code: compute prediction for x_test_1\n",
    "print(\"Prediction for x_test_2 is y=\", None)    # REPLACE dummy code: compute prediction for x_test_2\n",
    "print(\"III.3) S=\",S,\"fold Cross Validation:\")\n",
    "err_abs,err_rel = None, None                   # REPLACE dummy code: do cross validation!! \n",
    "print(\"absolute errors (E,sd,min,max)=\", err_abs, \"\\nrelative errors (E,sd,min,max)=\", err_rel)"
   ]
  },
  {
   "cell_type": "code",
   "execution_count": 18,
   "metadata": {},
   "outputs": [
    {
     "name": "stdout",
     "output_type": "stream",
     "text": [
      "\n",
      "#### KNN regression with flagKLinReg= 0  ####\n",
      "IV.1) Some predictions on the training data:\n",
      "Prediction for X[ 366 ]= [2.0000e+03 5.3000e+00 2.2860e-01 7.1300e+01 5.1942e-03]  is y= None , whereas true value is T[ 366 ]= 125.89\n",
      "Prediction for X[ 393 ]= [5.00000e+02 7.30000e+00 2.28600e-01 7.13000e+01 1.04404e-02]  is y= None , whereas true value is T[ 393 ]= 136.798\n",
      "Prediction for X[ 91 ]= [5.00000e+03 1.50000e+00 3.04800e-01 3.96000e+01 3.92107e-03]  is y= None , whereas true value is T[ 91 ]= 116.241\n",
      "Prediction for X[ 111 ]= [4.00000e+02 3.00000e+00 3.04800e-01 5.55000e+01 4.52492e-03]  is y= None , whereas true value is T[ 111 ]= 126.159\n",
      "Prediction for X[ 134 ]= [2.00000e+03 3.00000e+00 3.04800e-01 3.96000e+01 4.95741e-03]  is y= None , whereas true value is T[ 134 ]= 120.532\n",
      "IV.2) Some predicitions for new test vectors:\n",
      "Prediction for x_test_1 is y= None\n",
      "Prediction for x_test_2 is y= None\n",
      "IV.3) S= 3 fold Cross Validation:\n",
      "absolute errors (E,sd,min,max)= None \n",
      "relative errors (E,sd,min,max)= None\n"
     ]
    }
   ],
   "source": [
    "# (IV) Do KNN regression  \n",
    "print(\"\\n#### KNN regression with flagKLinReg=\", flagKLinReg, \" ####\")\n",
    "knnr = None                                    # REPLACE dummy code: Create and fit KNNRegressifier\n",
    "print(\"IV.1) Some predictions on the training data:\")\n",
    "for i in range(N_pred): \n",
    "    n=idx_perm[i]\n",
    "    print(\"Prediction for X[\",n,\"]=\",X[n],\" is y=\",None,\", whereas true value is T[\",n,\"]=\",T[n])   # REPLACE dummy code: compute prediction for X[n]\n",
    "print(\"IV.2) Some predicitions for new test vectors:\")\n",
    "print(\"Prediction for x_test_1 is y=\", None)    # REPLACE dummy code: compute prediction for x_test_1\n",
    "print(\"Prediction for x_test_2 is y=\", None)    # REPLACE dummy code: compute prediction for x_test_2\n",
    "print(\"IV.3) S=\",S,\"fold Cross Validation:\")\n",
    "err_abs,err_rel = None, None                   # REPLACE dummy code: do cross validation!! \n",
    "print(\"absolute errors (E,sd,min,max)=\", err_abs, \"\\nrelative errors (E,sd,min,max)=\", err_rel )"
   ]
  },
  {
   "cell_type": "code",
   "execution_count": null,
   "metadata": {},
   "outputs": [],
   "source": []
  }
 ],
 "metadata": {
  "kernelspec": {
   "display_name": "Python 3",
   "language": "python",
   "name": "python3"
  },
  "language_info": {
   "codemirror_mode": {
    "name": "ipython",
    "version": 3
   },
   "file_extension": ".py",
   "mimetype": "text/x-python",
   "name": "python",
   "nbconvert_exporter": "python",
   "pygments_lexer": "ipython3",
   "version": "3.7.1"
  }
 },
 "nbformat": 4,
 "nbformat_minor": 2
}
